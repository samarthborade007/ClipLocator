{
 "cells": [
  {
   "cell_type": "code",
   "execution_count": 1,
   "metadata": {},
   "outputs": [
    {
     "name": "stderr",
     "output_type": "stream",
     "text": [
      "/Library/Frameworks/Python.framework/Versions/3.11/lib/python3.11/site-packages/transformers/utils/generic.py:441: UserWarning: torch.utils._pytree._register_pytree_node is deprecated. Please use torch.utils._pytree.register_pytree_node instead.\n",
      "  _torch_pytree._register_pytree_node(\n",
      "/Library/Frameworks/Python.framework/Versions/3.11/lib/python3.11/site-packages/transformers/utils/generic.py:309: UserWarning: torch.utils._pytree._register_pytree_node is deprecated. Please use torch.utils._pytree.register_pytree_node instead.\n",
      "  _torch_pytree._register_pytree_node(\n"
     ]
    },
    {
     "data": {
      "application/vnd.jupyter.widget-view+json": {
       "model_id": "80523a2cd74b4e74a4d608a2ffc5253e",
       "version_major": 2,
       "version_minor": 0
      },
      "text/plain": [
       "config.json:   0%|          | 0.00/892 [00:00<?, ?B/s]"
      ]
     },
     "metadata": {},
     "output_type": "display_data"
    },
    {
     "name": "stderr",
     "output_type": "stream",
     "text": [
      "/Library/Frameworks/Python.framework/Versions/3.11/lib/python3.11/site-packages/transformers/utils/generic.py:309: UserWarning: torch.utils._pytree._register_pytree_node is deprecated. Please use torch.utils._pytree.register_pytree_node instead.\n",
      "  _torch_pytree._register_pytree_node(\n"
     ]
    },
    {
     "data": {
      "application/vnd.jupyter.widget-view+json": {
       "model_id": "25a2db896e204bec9ad9dced4184cbf7",
       "version_major": 2,
       "version_minor": 0
      },
      "text/plain": [
       "model.safetensors:   0%|          | 0.00/2.24G [00:00<?, ?B/s]"
      ]
     },
     "metadata": {},
     "output_type": "display_data"
    },
    {
     "data": {
      "application/vnd.jupyter.widget-view+json": {
       "model_id": "b9d9b5a10f054866b04eb320ccdbb546",
       "version_major": 2,
       "version_minor": 0
      },
      "text/plain": [
       "tokenizer_config.json:   0%|          | 0.00/406 [00:00<?, ?B/s]"
      ]
     },
     "metadata": {},
     "output_type": "display_data"
    },
    {
     "data": {
      "application/vnd.jupyter.widget-view+json": {
       "model_id": "f5843c25bb254f44aedfa181d8913829",
       "version_major": 2,
       "version_minor": 0
      },
      "text/plain": [
       "sentencepiece.bpe.model:   0%|          | 0.00/5.07M [00:00<?, ?B/s]"
      ]
     },
     "metadata": {},
     "output_type": "display_data"
    },
    {
     "data": {
      "application/vnd.jupyter.widget-view+json": {
       "model_id": "970fc404ca1d4fb69c7101fbb6bf6ff6",
       "version_major": 2,
       "version_minor": 0
      },
      "text/plain": [
       "tokenizer.json:   0%|          | 0.00/17.1M [00:00<?, ?B/s]"
      ]
     },
     "metadata": {},
     "output_type": "display_data"
    },
    {
     "data": {
      "application/vnd.jupyter.widget-view+json": {
       "model_id": "6417f616cfce40518f460f51d325b0ea",
       "version_major": 2,
       "version_minor": 0
      },
      "text/plain": [
       "special_tokens_map.json:   0%|          | 0.00/239 [00:00<?, ?B/s]"
      ]
     },
     "metadata": {},
     "output_type": "display_data"
    },
    {
     "name": "stderr",
     "output_type": "stream",
     "text": [
      "/Library/Frameworks/Python.framework/Versions/3.11/lib/python3.11/site-packages/transformers/pipelines/token_classification.py:169: UserWarning: `grouped_entities` is deprecated and will be removed in version v5.0.0, defaulted to `aggregation_strategy=\"AggregationStrategy.NONE\"` instead.\n",
      "  warnings.warn(\n"
     ]
    }
   ],
   "source": [
    "from youtube_timestamper.core import YoutubeTimestamper\n"
   ]
  },
  {
   "cell_type": "code",
   "execution_count": 2,
   "metadata": {},
   "outputs": [],
   "source": [
    "\n",
    "yt_ts = YoutubeTimestamper(\"https://www.youtube.com/watch?v=QGCvycOXs2M\")"
   ]
  },
  {
   "cell_type": "code",
   "execution_count": 3,
   "metadata": {},
   "outputs": [
    {
     "name": "stdout",
     "output_type": "stream",
     "text": [
      "00:00:00 Introduction\n",
      "00:01:08 how did he transition into data science and cargill and his journey on kaggle?\n",
      "00:02:23 can you tell us a bit more about that, chris, now that you remember of it the secret?\n",
      "00:02:48 did you get your invite to the fight clubs yet, or can you share a bit about those?\n",
      "00:04:44 then i, um i graduated with a bachelor's degree in mathematics and then, um, immediately afterwards, i?\n",
      "00:07:19 when did kaggle come into the picture? when did you find your addiction for kagan?\n",
      "00:08:28 you know you build a model and is your model more accurate than the other guy's model?\n",
      "00:10:15 how did you go from just starting your journey to today being the forex grandmaster? how would you advise? what should they read? what should they learn? do you think there's such a list?\n",
      "00:11:49 was it part of the enjoyment process, just getting involved, or were you making a conscious effort to? you know, maybe list down points where you need to improve?\n",
      "00:12:40 and even if a competition or something looks similar to a previous one, i say to myself: you know, what new angle can i do here? you know what new thing can i learn?\n",
      "00:13:49 any favorite battle stories you that you might remember?\n",
      "00:14:33 so there's many competitions and you see the leaderboard and there's a bunch of scores and there's, you know, the top 50, they have a little bit of a jump, and there's and people in the forum say: you know magic, what's the magic?\n",
      "00:16:03 um, do you, do you have any uh, rigid approach to competitions now, or did you compete in any in parallel, or do you just stick to one? and what's your approach in general to competitions now?\n",
      "00:22:05 so, and that's something that i also enjoy very much- on the flip side, do you feel you're also losing a competitive edge?\n",
      "00:25:45 thank you, um, what advice would you have for uh, newbies who are looking to write kernels?\n",
      "00:30:58 what, what advice would you have for them? they're just chasing uh, maybe the title, since it's gamified, does it annoy you? do you have any uh advice for such people?\n",
      "00:32:51 uh, any favorite memories from discussions that you might have?\n",
      "00:34:37 and then someone says, wow, that's awesome, hey, have you thought about doing this?\n",
      "00:35:35 um, what advice would you have for people who people, many people, seek teaming up because they may be asking to just compete by themselves? but what teaming advice would you have for people in general? or what's your strategy?\n",
      "00:38:47 what's your reason for investing so much time into kagan?\n",
      "00:38:58 you know people might see it and say, why is he doing so much for the community? you know, how have i, how have i, you know, learned these ideas so well?\n",
      "00:43:49 pandas build psychic learn, okay, uh, but what, what the wrap is team doing is?\n",
      "00:45:38 is the desk data plotted on top of the train data or is the test data over here? like: is this group of images the same as this group of images?\n",
      "00:47:11 how do you, chris, how do you manage your time? what's, what's your secret to time management?\n",
      "00:49:44 but, as i said, you know, if someone's like, hey, can you? you know, can you follow the?\n",
      "00:50:30 uh, is it okay if we do a quick rapid fire questions? uh, a set of questions? so what would you like? so, would you like to me give short answers?\n",
      "00:51:12 okay, a favorite course that you've taught? uh, i'm not sure if you've taught a few or was it just a single one? oh, okay, yeah, so, uh, favorite course?\n",
      "00:52:11 do you know that? the derivative is exactly what your brain uses for you to learn something?\n",
      "00:52:38 okay, um, favorite algorithm?\n",
      "00:52:54 it's just how do you classify this guy? well, how do you class with this data point?\n",
      "00:53:55 okay, um, favorite competition that you've taken part in?\n",
      "00:55:20 you're refreshing your computer, refreshing your computer, how did i do? how did i do? it's unbelievable, right?\n",
      "01:00:28 um, what would be your favorite spot to surf? wait, favorite what sport? to windsurf?\n",
      "01:01:24 uh, your favorite way to unwind, uh, from data science or kaggle?\n",
      "\n",
      "Created using youtube-timestamper - https://ilangurudev.github.io/youtube-timestamper/\n"
     ]
    }
   ],
   "source": [
    "\n",
    "yt_ts.suggest_question_timestamps(next_q_thresh=20)"
   ]
  }
 ],
 "metadata": {
  "kernelspec": {
   "display_name": "Python 3",
   "language": "python",
   "name": "python3"
  },
  "language_info": {
   "codemirror_mode": {
    "name": "ipython",
    "version": 3
   },
   "file_extension": ".py",
   "mimetype": "text/x-python",
   "name": "python",
   "nbconvert_exporter": "python",
   "pygments_lexer": "ipython3",
   "version": "3.11.6"
  }
 },
 "nbformat": 4,
 "nbformat_minor": 2
}
